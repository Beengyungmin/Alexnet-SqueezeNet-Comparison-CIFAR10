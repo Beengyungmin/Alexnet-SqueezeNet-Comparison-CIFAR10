{
  "nbformat": 4,
  "nbformat_minor": 0,
  "metadata": {
    "colab": {
      "name": "Alexnet & SqueezeNet on CIFAR10.ipynb",
      "version": "0.3.2",
      "provenance": [],
      "collapsed_sections": []
    },
    "kernelspec": {
      "name": "python3",
      "display_name": "Python 3"
    },
    "accelerator": "GPU"
  },
  "cells": [
    {
      "metadata": {
        "id": "wSHn4bB0Buv-",
        "colab_type": "code",
        "outputId": "91c3e6c3-691c-4b5e-dab9-6cadfda29de6",
        "colab": {
          "base_uri": "https://localhost:8080/",
          "height": 34
        }
      },
      "cell_type": "code",
      "source": [
        "from keras.datasets import cifar10\n",
        "from keras.models import Model\n",
        "from keras.layers import Input, Dense, Dropout, Flatten, Conv2D, MaxPooling2D, BatchNormalization, GlobalAveragePooling2D, Activation, Concatenate\n",
        "from keras import optimizers\n",
        "from keras.utils import to_categorical\n",
        "from keras.preprocessing.image import ImageDataGenerator\n",
        "from keras.optimizers import SGD\n",
        "from keras.callbacks import LearningRateScheduler\n",
        "from sklearn.model_selection import train_test_split\n",
        "import math\n",
        "import numpy as np\n",
        "import matplotlib.pyplot as plt"
      ],
      "execution_count": 0,
      "outputs": [
        {
          "output_type": "stream",
          "text": [
            "Using TensorFlow backend.\n"
          ],
          "name": "stderr"
        }
      ]
    },
    {
      "metadata": {
        "id": "kE_wVRaoPFrd",
        "colab_type": "code",
        "colab": {}
      },
      "cell_type": "code",
      "source": [
        "batch_size = 128\n",
        "epochs = 100\n",
        "lr0 = 0.1"
      ],
      "execution_count": 0,
      "outputs": []
    },
    {
      "metadata": {
        "id": "ffjbysBGO-hZ",
        "colab_type": "code",
        "colab": {}
      },
      "cell_type": "code",
      "source": [
        "def linear_decay(epoch):\n",
        "    epochs_drop = 20\n",
        "    drop = 0.5\n",
        "    lrate = lr0 * math.pow(drop,  \n",
        "           math.floor((1+epoch)/epochs_drop))\n",
        "    return lrate\n",
        "\n",
        "lrate = LearningRateScheduler(linear_decay)"
      ],
      "execution_count": 0,
      "outputs": []
    },
    {
      "metadata": {
        "id": "tAgP82CYDING",
        "colab_type": "code",
        "outputId": "f4751248-f50e-44fc-e249-6a6b6d31217b",
        "colab": {
          "base_uri": "https://localhost:8080/",
          "height": 51
        }
      },
      "cell_type": "code",
      "source": [
        "(x_train, y_train), (x_test, y_test) = cifar10.load_data()"
      ],
      "execution_count": 0,
      "outputs": [
        {
          "output_type": "stream",
          "text": [
            "Downloading data from https://www.cs.toronto.edu/~kriz/cifar-10-python.tar.gz\n",
            "170500096/170498071 [==============================] - 20s 0us/step\n"
          ],
          "name": "stdout"
        }
      ]
    },
    {
      "metadata": {
        "id": "67tXfPWUDONH",
        "colab_type": "code",
        "colab": {}
      },
      "cell_type": "code",
      "source": [
        "y_train = to_categorical(y_train, 10)\n",
        "y_test = to_categorical(y_test, 10)"
      ],
      "execution_count": 0,
      "outputs": []
    },
    {
      "metadata": {
        "id": "NWxEueyWIcmE",
        "colab_type": "code",
        "colab": {}
      },
      "cell_type": "code",
      "source": [
        "x_train, x_valid, y_train, y_valid = train_test_split(x_train, y_train, test_size = 0.1)"
      ],
      "execution_count": 0,
      "outputs": []
    },
    {
      "metadata": {
        "id": "-8GdPajtHCye",
        "colab_type": "code",
        "colab": {}
      },
      "cell_type": "code",
      "source": [
        "train_datagen = ImageDataGenerator(\n",
        "    featurewise_center=True,\n",
        "    featurewise_std_normalization=True,\n",
        "    rotation_range=15,\n",
        "    width_shift_range=0.1,\n",
        "    height_shift_range=0.1,\n",
        "    horizontal_flip=True\n",
        "    )\n",
        "\n",
        "valid_datagen = ImageDataGenerator(\n",
        "    featurewise_center = True,\n",
        "    featurewise_std_normalization=True\n",
        ")\n",
        "\n",
        "test_datagen = ImageDataGenerator(\n",
        "    featurewise_center = True,\n",
        "    featurewise_std_normalization=True\n",
        ")"
      ],
      "execution_count": 0,
      "outputs": []
    },
    {
      "metadata": {
        "id": "VtFcSgVAH3zM",
        "colab_type": "code",
        "colab": {}
      },
      "cell_type": "code",
      "source": [
        "train_datagen.fit(x_train)\n",
        "valid_datagen.fit(x_valid)\n",
        "test_datagen.fit(x_test)"
      ],
      "execution_count": 0,
      "outputs": []
    },
    {
      "metadata": {
        "id": "EfV1OYMGDfp2",
        "colab_type": "code",
        "colab": {}
      },
      "cell_type": "code",
      "source": [
        "def Alexnet(height, width, channel):\n",
        "    inputs = Input(shape=(height, width, channel))\n",
        "    conv1 = Conv2D(96, kernel_size=(3, 3), strides=(2, 2),  padding='same', activation='relu', name = 'Conv1')(inputs)\n",
        "    maxpool1 = MaxPooling2D(pool_size=(2, 2), strides=(2, 2), name='Maxpool1')(conv1)\n",
        "    batch1 = BatchNormalization(name='Batch1')(maxpool1)\n",
        "    \n",
        "    conv2 = Conv2D(256, kernel_size=(5, 5), activation='relu', padding='same', name='Conv2')(batch1)\n",
        "    maxpool2 = MaxPooling2D(pool_size=(3, 3), strides=(2, 2), name='Maxpool2')(conv2)\n",
        "    batch2 = BatchNormalization(name='Batch2')(maxpool2)\n",
        "    \n",
        "    conv3 = Conv2D(384, kernel_size=(3, 3), activation='relu', padding='same', name='Conv3')(batch2)\n",
        "    conv4 = Conv2D(384, kernel_size=(3, 3), activation='relu', padding='same', name='Conv4')(conv3)\n",
        "    conv5 = Conv2D(384, kernel_size=(3, 3), activation='relu', padding='same',  name='Conv5')(conv4)\n",
        "    maxpool5 = MaxPooling2D(pool_size=(3, 3), strides=(2, 2), name='Maxpool5')(conv5)\n",
        "    batch5 = BatchNormalization(name='Batch5')(maxpool5)\n",
        "    \n",
        "    flatten = Flatten()(batch5)\n",
        "    fc1 = Dense(4096, activation='relu', name='Fc1')(flatten)\n",
        "    dropout1 = Dropout(rate=0.5, name=\"Dropout1\")(fc1)\n",
        "    fc2 = Dense(4096, activation='relu', name='Fc2')(dropout1)\n",
        "    dropout2 = Dropout(rate=0.5, name=\"Dropout2\")(fc2)\n",
        "    fc3 = Dense(10, activation='softmax')(dropout2)\n",
        "    \n",
        "    Alexnet = Model(inputs = inputs, outputs = fc3)\n",
        "    return Alexnet"
      ],
      "execution_count": 0,
      "outputs": []
    },
    {
      "metadata": {
        "id": "6HKQX9cgGZnk",
        "colab_type": "code",
        "outputId": "a382ceed-a222-45de-d484-824d55ed2907",
        "colab": {
          "base_uri": "https://localhost:8080/",
          "height": 139
        }
      },
      "cell_type": "code",
      "source": [
        "alexnet = Alexnet(32, 32, 3)\n",
        "sgd = SGD(lr = lr0, momentum = 0.9, decay=0.0002, nesterov=False)\n",
        "alexnet.compile(loss='categorical_crossentropy', optimizer=sgd, metrics=['accuracy'])\n",
        "callbacks_list = [lrate]"
      ],
      "execution_count": 0,
      "outputs": [
        {
          "output_type": "stream",
          "text": [
            "WARNING:tensorflow:From /usr/local/lib/python3.6/dist-packages/tensorflow/python/framework/op_def_library.py:263: colocate_with (from tensorflow.python.framework.ops) is deprecated and will be removed in a future version.\n",
            "Instructions for updating:\n",
            "Colocations handled automatically by placer.\n",
            "WARNING:tensorflow:From /usr/local/lib/python3.6/dist-packages/keras/backend/tensorflow_backend.py:3445: calling dropout (from tensorflow.python.ops.nn_ops) with keep_prob is deprecated and will be removed in a future version.\n",
            "Instructions for updating:\n",
            "Please use `rate` instead of `keep_prob`. Rate should be set to `rate = 1 - keep_prob`.\n"
          ],
          "name": "stdout"
        }
      ]
    },
    {
      "metadata": {
        "id": "5RiOTHRzXa9Q",
        "colab_type": "code",
        "outputId": "6b705ebf-b081-41cc-8562-8a40d6a40a47",
        "colab": {
          "base_uri": "https://localhost:8080/",
          "height": 746
        }
      },
      "cell_type": "code",
      "source": [
        "alexnet.summary()"
      ],
      "execution_count": 0,
      "outputs": [
        {
          "output_type": "stream",
          "text": [
            "_________________________________________________________________\n",
            "Layer (type)                 Output Shape              Param #   \n",
            "=================================================================\n",
            "input_1 (InputLayer)         (None, 32, 32, 3)         0         \n",
            "_________________________________________________________________\n",
            "Conv1 (Conv2D)               (None, 16, 16, 96)        2688      \n",
            "_________________________________________________________________\n",
            "Maxpool1 (MaxPooling2D)      (None, 8, 8, 96)          0         \n",
            "_________________________________________________________________\n",
            "Batch1 (BatchNormalization)  (None, 8, 8, 96)          384       \n",
            "_________________________________________________________________\n",
            "Conv2 (Conv2D)               (None, 8, 8, 256)         614656    \n",
            "_________________________________________________________________\n",
            "Maxpool2 (MaxPooling2D)      (None, 3, 3, 256)         0         \n",
            "_________________________________________________________________\n",
            "Batch2 (BatchNormalization)  (None, 3, 3, 256)         1024      \n",
            "_________________________________________________________________\n",
            "Conv3 (Conv2D)               (None, 3, 3, 384)         885120    \n",
            "_________________________________________________________________\n",
            "Conv4 (Conv2D)               (None, 3, 3, 384)         1327488   \n",
            "_________________________________________________________________\n",
            "Conv5 (Conv2D)               (None, 3, 3, 384)         1327488   \n",
            "_________________________________________________________________\n",
            "Maxpool5 (MaxPooling2D)      (None, 1, 1, 384)         0         \n",
            "_________________________________________________________________\n",
            "Batch5 (BatchNormalization)  (None, 1, 1, 384)         1536      \n",
            "_________________________________________________________________\n",
            "flatten_1 (Flatten)          (None, 384)               0         \n",
            "_________________________________________________________________\n",
            "Fc1 (Dense)                  (None, 4096)              1576960   \n",
            "_________________________________________________________________\n",
            "Dropout1 (Dropout)           (None, 4096)              0         \n",
            "_________________________________________________________________\n",
            "Fc2 (Dense)                  (None, 4096)              16781312  \n",
            "_________________________________________________________________\n",
            "Dropout2 (Dropout)           (None, 4096)              0         \n",
            "_________________________________________________________________\n",
            "dense_1 (Dense)              (None, 10)                40970     \n",
            "=================================================================\n",
            "Total params: 22,559,626\n",
            "Trainable params: 22,558,154\n",
            "Non-trainable params: 1,472\n",
            "_________________________________________________________________\n"
          ],
          "name": "stdout"
        }
      ]
    },
    {
      "metadata": {
        "id": "TzSFloXQGhDP",
        "colab_type": "code",
        "outputId": "cddc856e-27ca-4802-de87-ae24af422db5",
        "colab": {
          "base_uri": "https://localhost:8080/",
          "height": 3482
        }
      },
      "cell_type": "code",
      "source": [
        "alexnet_his = alexnet.fit_generator(train_datagen.flow(x_train, y_train, batch_size=batch_size), \n",
        "                                    steps_per_epoch = len(x_train) / batch_size, \n",
        "                                    epochs = epochs, \n",
        "                                   validation_data=valid_datagen.flow(x_valid, y_valid, batch_size=batch_size),\n",
        "                                   validation_steps=len(x_valid) / batch_size,\n",
        "                                   callbacks=callbacks_list)"
      ],
      "execution_count": 0,
      "outputs": [
        {
          "output_type": "stream",
          "text": [
            "WARNING:tensorflow:From /usr/local/lib/python3.6/dist-packages/tensorflow/python/ops/math_ops.py:3066: to_int32 (from tensorflow.python.ops.math_ops) is deprecated and will be removed in a future version.\n",
            "Instructions for updating:\n",
            "Use tf.cast instead.\n",
            "Epoch 1/100\n",
            "352/351 [==============================] - 37s 105ms/step - loss: 1.8827 - acc: 0.3270 - val_loss: 1.6720 - val_acc: 0.4014\n",
            "Epoch 2/100\n",
            "352/351 [==============================] - 32s 91ms/step - loss: 1.4428 - acc: 0.4828 - val_loss: 1.2685 - val_acc: 0.5338\n",
            "Epoch 3/100\n",
            "352/351 [==============================] - 32s 91ms/step - loss: 1.2504 - acc: 0.5569 - val_loss: 1.1878 - val_acc: 0.5742\n",
            "Epoch 4/100\n",
            "352/351 [==============================] - 32s 91ms/step - loss: 1.1098 - acc: 0.6102 - val_loss: 1.0351 - val_acc: 0.6410\n",
            "Epoch 5/100\n",
            "352/351 [==============================] - 32s 91ms/step - loss: 1.0275 - acc: 0.6394 - val_loss: 0.9757 - val_acc: 0.6468\n",
            "Epoch 6/100\n",
            "352/351 [==============================] - 32s 91ms/step - loss: 0.9478 - acc: 0.6702 - val_loss: 1.0908 - val_acc: 0.6264\n",
            "Epoch 7/100\n",
            "352/351 [==============================] - 32s 91ms/step - loss: 0.8893 - acc: 0.6918 - val_loss: 0.9100 - val_acc: 0.6854\n",
            "Epoch 8/100\n",
            "352/351 [==============================] - 32s 90ms/step - loss: 0.8390 - acc: 0.7128 - val_loss: 0.9528 - val_acc: 0.6796\n",
            "Epoch 9/100\n",
            "352/351 [==============================] - 32s 91ms/step - loss: 0.7933 - acc: 0.7282 - val_loss: 0.7757 - val_acc: 0.7360\n",
            "Epoch 10/100\n",
            "352/351 [==============================] - 32s 91ms/step - loss: 0.7551 - acc: 0.7406 - val_loss: 0.7469 - val_acc: 0.7466\n",
            "Epoch 11/100\n",
            "352/351 [==============================] - 32s 91ms/step - loss: 0.7166 - acc: 0.7534 - val_loss: 0.7864 - val_acc: 0.7336\n",
            "Epoch 12/100\n",
            "352/351 [==============================] - 32s 92ms/step - loss: 0.6873 - acc: 0.7635 - val_loss: 0.7910 - val_acc: 0.7372\n",
            "Epoch 13/100\n",
            "352/351 [==============================] - 32s 91ms/step - loss: 0.6524 - acc: 0.7753 - val_loss: 0.7777 - val_acc: 0.7368\n",
            "Epoch 14/100\n",
            "352/351 [==============================] - 33s 93ms/step - loss: 0.6243 - acc: 0.7846 - val_loss: 0.8561 - val_acc: 0.7218\n",
            "Epoch 15/100\n",
            "352/351 [==============================] - 33s 94ms/step - loss: 0.5968 - acc: 0.7953 - val_loss: 0.7619 - val_acc: 0.7498\n",
            "Epoch 16/100\n",
            "352/351 [==============================] - 33s 93ms/step - loss: 0.5872 - acc: 0.7994 - val_loss: 0.7630 - val_acc: 0.7456\n",
            "Epoch 17/100\n",
            "352/351 [==============================] - 33s 93ms/step - loss: 0.5599 - acc: 0.8052 - val_loss: 0.7246 - val_acc: 0.7554\n",
            "Epoch 18/100\n",
            "352/351 [==============================] - 33s 94ms/step - loss: 0.5435 - acc: 0.8150 - val_loss: 0.7023 - val_acc: 0.7592\n",
            "Epoch 19/100\n",
            "352/351 [==============================] - 33s 94ms/step - loss: 0.5182 - acc: 0.8207 - val_loss: 0.6778 - val_acc: 0.7702\n",
            "Epoch 20/100\n",
            "352/351 [==============================] - 33s 94ms/step - loss: 0.4529 - acc: 0.8437 - val_loss: 0.6536 - val_acc: 0.7868\n",
            "Epoch 21/100\n",
            "352/351 [==============================] - 33s 95ms/step - loss: 0.4319 - acc: 0.8514 - val_loss: 0.6495 - val_acc: 0.7814\n",
            "Epoch 22/100\n",
            "352/351 [==============================] - 33s 93ms/step - loss: 0.4175 - acc: 0.8559 - val_loss: 0.6521 - val_acc: 0.7832\n",
            "Epoch 23/100\n",
            "352/351 [==============================] - 33s 93ms/step - loss: 0.4006 - acc: 0.8617 - val_loss: 0.6782 - val_acc: 0.7736\n",
            "Epoch 24/100\n",
            "352/351 [==============================] - 33s 93ms/step - loss: 0.3800 - acc: 0.8691 - val_loss: 0.6940 - val_acc: 0.7790\n",
            "Epoch 25/100\n",
            "352/351 [==============================] - 33s 93ms/step - loss: 0.3782 - acc: 0.8676 - val_loss: 0.6592 - val_acc: 0.7890\n",
            "Epoch 26/100\n",
            "352/351 [==============================] - 33s 93ms/step - loss: 0.3583 - acc: 0.8763 - val_loss: 0.6544 - val_acc: 0.7876\n",
            "Epoch 27/100\n",
            "352/351 [==============================] - 33s 93ms/step - loss: 0.3584 - acc: 0.8775 - val_loss: 0.6788 - val_acc: 0.7770\n",
            "Epoch 28/100\n",
            "352/351 [==============================] - 33s 93ms/step - loss: 0.3484 - acc: 0.8779 - val_loss: 0.6375 - val_acc: 0.7952\n",
            "Epoch 29/100\n",
            "352/351 [==============================] - 33s 93ms/step - loss: 0.3358 - acc: 0.8826 - val_loss: 0.6663 - val_acc: 0.7856\n",
            "Epoch 30/100\n",
            "352/351 [==============================] - 33s 94ms/step - loss: 0.3226 - acc: 0.8869 - val_loss: 0.6896 - val_acc: 0.7792\n",
            "Epoch 31/100\n",
            "352/351 [==============================] - 33s 93ms/step - loss: 0.3171 - acc: 0.8892 - val_loss: 0.6708 - val_acc: 0.7868\n",
            "Epoch 32/100\n",
            "352/351 [==============================] - 33s 93ms/step - loss: 0.3016 - acc: 0.8947 - val_loss: 0.6816 - val_acc: 0.7888\n",
            "Epoch 33/100\n",
            "352/351 [==============================] - 33s 94ms/step - loss: 0.2985 - acc: 0.8954 - val_loss: 0.7200 - val_acc: 0.7872\n",
            "Epoch 34/100\n",
            "352/351 [==============================] - 33s 93ms/step - loss: 0.2938 - acc: 0.8973 - val_loss: 0.6779 - val_acc: 0.7872\n",
            "Epoch 35/100\n",
            "352/351 [==============================] - 33s 93ms/step - loss: 0.2884 - acc: 0.9006 - val_loss: 0.7147 - val_acc: 0.7856\n",
            "Epoch 36/100\n",
            "352/351 [==============================] - 33s 93ms/step - loss: 0.2760 - acc: 0.9035 - val_loss: 0.6433 - val_acc: 0.7984\n",
            "Epoch 37/100\n",
            "352/351 [==============================] - 33s 93ms/step - loss: 0.2661 - acc: 0.9073 - val_loss: 0.6884 - val_acc: 0.7882\n",
            "Epoch 38/100\n",
            "352/351 [==============================] - 33s 93ms/step - loss: 0.2629 - acc: 0.9086 - val_loss: 0.6865 - val_acc: 0.7924\n",
            "Epoch 39/100\n",
            "352/351 [==============================] - 33s 93ms/step - loss: 0.2544 - acc: 0.9117 - val_loss: 0.6817 - val_acc: 0.7970\n",
            "Epoch 40/100\n",
            "352/351 [==============================] - 33s 94ms/step - loss: 0.2244 - acc: 0.9226 - val_loss: 0.6907 - val_acc: 0.7988\n",
            "Epoch 41/100\n",
            "352/351 [==============================] - 33s 93ms/step - loss: 0.2154 - acc: 0.9250 - val_loss: 0.7147 - val_acc: 0.7956\n",
            "Epoch 42/100\n",
            "352/351 [==============================] - 33s 93ms/step - loss: 0.2073 - acc: 0.9263 - val_loss: 0.7224 - val_acc: 0.7960\n",
            "Epoch 43/100\n",
            "352/351 [==============================] - 33s 94ms/step - loss: 0.2016 - acc: 0.9281 - val_loss: 0.7065 - val_acc: 0.7988\n",
            "Epoch 44/100\n",
            "352/351 [==============================] - 33s 93ms/step - loss: 0.1968 - acc: 0.9313 - val_loss: 0.7032 - val_acc: 0.8008\n",
            "Epoch 45/100\n",
            "352/351 [==============================] - 33s 93ms/step - loss: 0.1943 - acc: 0.9323 - val_loss: 0.7470 - val_acc: 0.7938\n",
            "Epoch 46/100\n",
            "352/351 [==============================] - 33s 93ms/step - loss: 0.1882 - acc: 0.9345 - val_loss: 0.7284 - val_acc: 0.7990\n",
            "Epoch 47/100\n",
            "352/351 [==============================] - 34s 98ms/step - loss: 0.1857 - acc: 0.9359 - val_loss: 0.7331 - val_acc: 0.7948\n",
            "Epoch 48/100\n",
            "352/351 [==============================] - 32s 92ms/step - loss: 0.1828 - acc: 0.9382 - val_loss: 0.7125 - val_acc: 0.7972\n",
            "Epoch 49/100\n",
            "352/351 [==============================] - 32s 91ms/step - loss: 0.1796 - acc: 0.9374 - val_loss: 0.7599 - val_acc: 0.7942\n",
            "Epoch 50/100\n",
            "352/351 [==============================] - 32s 92ms/step - loss: 0.1761 - acc: 0.9394 - val_loss: 0.7286 - val_acc: 0.8014\n",
            "Epoch 51/100\n",
            "352/351 [==============================] - 32s 91ms/step - loss: 0.1692 - acc: 0.9418 - val_loss: 0.7564 - val_acc: 0.7966\n",
            "Epoch 52/100\n",
            "352/351 [==============================] - 32s 92ms/step - loss: 0.1636 - acc: 0.9421 - val_loss: 0.7894 - val_acc: 0.7926\n",
            "Epoch 53/100\n",
            "352/351 [==============================] - 32s 91ms/step - loss: 0.1668 - acc: 0.9425 - val_loss: 0.7420 - val_acc: 0.8030\n",
            "Epoch 54/100\n",
            "352/351 [==============================] - 32s 91ms/step - loss: 0.1577 - acc: 0.9448 - val_loss: 0.7847 - val_acc: 0.7964\n",
            "Epoch 55/100\n",
            "352/351 [==============================] - 32s 91ms/step - loss: 0.1579 - acc: 0.9441 - val_loss: 0.8264 - val_acc: 0.7912\n",
            "Epoch 56/100\n",
            "352/351 [==============================] - 32s 91ms/step - loss: 0.1573 - acc: 0.9461 - val_loss: 0.7575 - val_acc: 0.7992\n",
            "Epoch 57/100\n",
            "352/351 [==============================] - 32s 91ms/step - loss: 0.1497 - acc: 0.9483 - val_loss: 0.7829 - val_acc: 0.7950\n",
            "Epoch 58/100\n",
            "352/351 [==============================] - 32s 91ms/step - loss: 0.1492 - acc: 0.9476 - val_loss: 0.7835 - val_acc: 0.7992\n",
            "Epoch 59/100\n",
            "352/351 [==============================] - 32s 92ms/step - loss: 0.1460 - acc: 0.9488 - val_loss: 0.7857 - val_acc: 0.7964\n",
            "Epoch 60/100\n",
            "352/351 [==============================] - 32s 91ms/step - loss: 0.1391 - acc: 0.9517 - val_loss: 0.7800 - val_acc: 0.7998\n",
            "Epoch 61/100\n",
            "352/351 [==============================] - 32s 91ms/step - loss: 0.1316 - acc: 0.9552 - val_loss: 0.7891 - val_acc: 0.7978\n",
            "Epoch 62/100\n",
            "352/351 [==============================] - 32s 92ms/step - loss: 0.1255 - acc: 0.9568 - val_loss: 0.7885 - val_acc: 0.7982\n",
            "Epoch 63/100\n",
            "352/351 [==============================] - 32s 91ms/step - loss: 0.1297 - acc: 0.9556 - val_loss: 0.7948 - val_acc: 0.8006\n",
            "Epoch 64/100\n",
            "352/351 [==============================] - 32s 91ms/step - loss: 0.1255 - acc: 0.9564 - val_loss: 0.8082 - val_acc: 0.7950\n",
            "Epoch 65/100\n",
            "352/351 [==============================] - 32s 92ms/step - loss: 0.1238 - acc: 0.9577 - val_loss: 0.8224 - val_acc: 0.7932\n",
            "Epoch 66/100\n",
            "352/351 [==============================] - 32s 92ms/step - loss: 0.1230 - acc: 0.9571 - val_loss: 0.7992 - val_acc: 0.8018\n",
            "Epoch 67/100\n",
            "352/351 [==============================] - 33s 92ms/step - loss: 0.1203 - acc: 0.9580 - val_loss: 0.8011 - val_acc: 0.8020\n",
            "Epoch 68/100\n",
            "352/351 [==============================] - 32s 92ms/step - loss: 0.1200 - acc: 0.9582 - val_loss: 0.8354 - val_acc: 0.7974\n",
            "Epoch 69/100\n",
            "352/351 [==============================] - 32s 92ms/step - loss: 0.1188 - acc: 0.9583 - val_loss: 0.8179 - val_acc: 0.7980\n",
            "Epoch 70/100\n",
            "352/351 [==============================] - 32s 91ms/step - loss: 0.1208 - acc: 0.9582 - val_loss: 0.8009 - val_acc: 0.7992\n",
            "Epoch 71/100\n",
            "352/351 [==============================] - 32s 92ms/step - loss: 0.1165 - acc: 0.9588 - val_loss: 0.8167 - val_acc: 0.7976\n",
            "Epoch 72/100\n",
            "352/351 [==============================] - 32s 91ms/step - loss: 0.1148 - acc: 0.9599 - val_loss: 0.8181 - val_acc: 0.7960\n",
            "Epoch 73/100\n",
            "352/351 [==============================] - 32s 90ms/step - loss: 0.1132 - acc: 0.9615 - val_loss: 0.8183 - val_acc: 0.7966\n",
            "Epoch 74/100\n",
            "352/351 [==============================] - 32s 91ms/step - loss: 0.1144 - acc: 0.9602 - val_loss: 0.8386 - val_acc: 0.7962\n",
            "Epoch 75/100\n",
            "352/351 [==============================] - 32s 91ms/step - loss: 0.1105 - acc: 0.9618 - val_loss: 0.8277 - val_acc: 0.7994\n",
            "Epoch 76/100\n",
            "352/351 [==============================] - 32s 91ms/step - loss: 0.1058 - acc: 0.9634 - val_loss: 0.8336 - val_acc: 0.8020\n",
            "Epoch 77/100\n",
            "352/351 [==============================] - 32s 91ms/step - loss: 0.1094 - acc: 0.9623 - val_loss: 0.8327 - val_acc: 0.7996\n",
            "Epoch 78/100\n",
            "352/351 [==============================] - 32s 91ms/step - loss: 0.1065 - acc: 0.9632 - val_loss: 0.8399 - val_acc: 0.7936\n",
            "Epoch 79/100\n",
            "352/351 [==============================] - 32s 91ms/step - loss: 0.1067 - acc: 0.9636 - val_loss: 0.8311 - val_acc: 0.8006\n",
            "Epoch 80/100\n",
            "352/351 [==============================] - 32s 91ms/step - loss: 0.1020 - acc: 0.9638 - val_loss: 0.8450 - val_acc: 0.7980\n",
            "Epoch 81/100\n",
            "352/351 [==============================] - 32s 92ms/step - loss: 0.0990 - acc: 0.9658 - val_loss: 0.8396 - val_acc: 0.8022\n",
            "Epoch 82/100\n",
            "352/351 [==============================] - 32s 91ms/step - loss: 0.0968 - acc: 0.9665 - val_loss: 0.8490 - val_acc: 0.7976\n",
            "Epoch 83/100\n",
            "352/351 [==============================] - 32s 91ms/step - loss: 0.0976 - acc: 0.9664 - val_loss: 0.8465 - val_acc: 0.7972\n",
            "Epoch 84/100\n",
            "352/351 [==============================] - 32s 92ms/step - loss: 0.0948 - acc: 0.9673 - val_loss: 0.8396 - val_acc: 0.8024\n",
            "Epoch 85/100\n",
            "352/351 [==============================] - 32s 92ms/step - loss: 0.0972 - acc: 0.9667 - val_loss: 0.8645 - val_acc: 0.7972\n",
            "Epoch 86/100\n",
            "352/351 [==============================] - 32s 91ms/step - loss: 0.0960 - acc: 0.9671 - val_loss: 0.8562 - val_acc: 0.7964\n",
            "Epoch 87/100\n",
            "352/351 [==============================] - 32s 91ms/step - loss: 0.0975 - acc: 0.9659 - val_loss: 0.8727 - val_acc: 0.7952\n",
            "Epoch 88/100\n",
            "352/351 [==============================] - 32s 92ms/step - loss: 0.0937 - acc: 0.9670 - val_loss: 0.8611 - val_acc: 0.8002\n",
            "Epoch 89/100\n",
            "352/351 [==============================] - 32s 91ms/step - loss: 0.0947 - acc: 0.9666 - val_loss: 0.8660 - val_acc: 0.7968\n",
            "Epoch 90/100\n",
            "352/351 [==============================] - 32s 92ms/step - loss: 0.0963 - acc: 0.9660 - val_loss: 0.8604 - val_acc: 0.7950\n",
            "Epoch 91/100\n",
            "352/351 [==============================] - 32s 92ms/step - loss: 0.0907 - acc: 0.9679 - val_loss: 0.8644 - val_acc: 0.7976\n",
            "Epoch 92/100\n",
            "352/351 [==============================] - 32s 91ms/step - loss: 0.0958 - acc: 0.9677 - val_loss: 0.8599 - val_acc: 0.7998\n",
            "Epoch 93/100\n",
            "352/351 [==============================] - 32s 92ms/step - loss: 0.0885 - acc: 0.9698 - val_loss: 0.8700 - val_acc: 0.7990\n",
            "Epoch 94/100\n",
            "352/351 [==============================] - 32s 92ms/step - loss: 0.0939 - acc: 0.9662 - val_loss: 0.8672 - val_acc: 0.7986\n",
            "Epoch 95/100\n",
            "352/351 [==============================] - 32s 92ms/step - loss: 0.0894 - acc: 0.9686 - val_loss: 0.8704 - val_acc: 0.8002\n",
            "Epoch 96/100\n",
            "352/351 [==============================] - 33s 94ms/step - loss: 0.0894 - acc: 0.9690 - val_loss: 0.8757 - val_acc: 0.7976\n",
            "Epoch 97/100\n",
            "352/351 [==============================] - 33s 94ms/step - loss: 0.0913 - acc: 0.9688 - val_loss: 0.8707 - val_acc: 0.7996\n",
            "Epoch 98/100\n",
            "352/351 [==============================] - 33s 95ms/step - loss: 0.0894 - acc: 0.9695 - val_loss: 0.8714 - val_acc: 0.7988\n",
            "Epoch 99/100\n",
            "352/351 [==============================] - 33s 94ms/step - loss: 0.0885 - acc: 0.9702 - val_loss: 0.8793 - val_acc: 0.7960\n",
            "Epoch 100/100\n",
            "352/351 [==============================] - 33s 94ms/step - loss: 0.0896 - acc: 0.9696 - val_loss: 0.8787 - val_acc: 0.7970\n"
          ],
          "name": "stdout"
        }
      ]
    },
    {
      "metadata": {
        "id": "_Mz6btz9Tr4z",
        "colab_type": "code",
        "outputId": "db92a21a-71f2-4391-e0a3-6c9efca45df4",
        "colab": {
          "base_uri": "https://localhost:8080/",
          "height": 34
        }
      },
      "cell_type": "code",
      "source": [
        "results = alexnet.evaluate_generator(test_datagen.flow(x_test, y_test, batch_size=batch_size), steps=len(x_test) / batch_size)\n",
        "print(\"Test Accuracy %f\" % (results[1] * 100))"
      ],
      "execution_count": 0,
      "outputs": [
        {
          "output_type": "stream",
          "text": [
            "Test Accuracy 79.280000\n"
          ],
          "name": "stdout"
        }
      ]
    },
    {
      "metadata": {
        "id": "bhXcb53EGnoz",
        "colab_type": "code",
        "colab": {}
      },
      "cell_type": "code",
      "source": [
        "def fire_module(x, s1x1, e1x1, e3x3, name):\n",
        "    #Squeeze layer\n",
        "    squeeze = Conv2D(s1x1, (1, 1), activation='relu', padding='valid', kernel_initializer='glorot_uniform', name = name + 's1x1')(x)\n",
        "    squeeze_bn = BatchNormalization(name=name+'sbn')(squeeze)\n",
        "    \n",
        "    #Expand 1x1 layer and 3x3 layer are parallel\n",
        "\n",
        "    #Expand 1x1 layer\n",
        "    expand1x1 = Conv2D(e1x1, (1, 1), activation='relu', padding='valid', kernel_initializer='glorot_uniform', name = name + 'e1x1')(squeeze_bn)\n",
        "    \n",
        "    #Expand 3x3 layer\n",
        "    expand3x3 = Conv2D(e3x3, (3, 3), activation='relu', padding='same', kernel_initializer='glorot_uniform', name = name +  'e3x3')(squeeze_bn)\n",
        "    \n",
        "    #Concatenate expand1x1 and expand 3x3 at filters\n",
        "    output = Concatenate(axis = 3, name=name)([expand1x1, expand3x3])\n",
        "    \n",
        "    return output"
      ],
      "execution_count": 0,
      "outputs": []
    },
    {
      "metadata": {
        "id": "5gZG0ubBS5Qp",
        "colab_type": "code",
        "colab": {}
      },
      "cell_type": "code",
      "source": [
        "def SqueezeNet(height, width, channel):\n",
        "    inputs = Input(shape=(height, width, channel))\n",
        "    conv1 = Conv2D(96, kernel_size=(3, 3), strides=(2, 2),  padding='same', activation='relu', name = 'Conv1')(inputs)\n",
        "    maxpool1 = MaxPooling2D(pool_size=(2, 2), strides=(2, 2), name='Maxpool1')(conv1)\n",
        "    batch1 = BatchNormalization(name='Batch1')(maxpool1)\n",
        "#     fire2 = fire_module(batch1, 16, 64, 64, \"Fire2\")\n",
        "#     fire3 = fire_module(fire2, 16, 64, 64, \"Fire3\")\n",
        "    fire4 = fire_module(batch1, 32, 128, 128, \"Fire2\")\n",
        "    maxpool4 = MaxPooling2D(pool_size=(3, 3), strides=(2, 2), name='Maxpool2')(fire4)\n",
        "#     fire5 = fire_module(maxpool4, 32, 128, 128, \"Fire5\")\n",
        "    fire6 = fire_module(maxpool4, 48, 192, 192, \"Fire3\")\n",
        "    fire7 = fire_module(fire6, 48, 192, 192, \"Fire4\")\n",
        "    fire8 = fire_module(fire7, 48, 192, 192, \"Fire5\")\n",
        "    maxpool8 = MaxPooling2D(pool_size=(3, 3), strides=(2, 2), name='Maxpool5')(fire8)\n",
        "#     fire9 = fire_module(maxpool8, 64, 256, 256, \"Fire9\")\n",
        "    dropout = Dropout(0.5, name=\"Dropout\")(maxpool8)\n",
        "    conv10 = Conv2D(10, kernel_size=(1, 1), strides=(1, 1), padding='same', activation='relu', name='Conv6')(dropout)\n",
        "    batch10 = BatchNormalization(name='Batch6')(conv10)\n",
        "    avgpool10 = GlobalAveragePooling2D(name='GlobalAvgPool6')(batch10)\n",
        "    softmax = Activation('softmax')(avgpool10)\n",
        "    \n",
        "    squeezenet = Model(inputs=inputs, outputs=softmax)\n",
        "    return squeezenet"
      ],
      "execution_count": 0,
      "outputs": []
    },
    {
      "metadata": {
        "id": "UOXl0b-KU0Ec",
        "colab_type": "code",
        "colab": {}
      },
      "cell_type": "code",
      "source": [
        "squeezenet = SqueezeNet(32, 32, 3)\n",
        "sgd = SGD(lr = lr0, momentum = 0.9, nesterov=False)\n",
        "squeezenet.compile(loss='categorical_crossentropy', optimizer=sgd, metrics=['accuracy'])"
      ],
      "execution_count": 0,
      "outputs": []
    },
    {
      "metadata": {
        "id": "6Te2ZVf_Yl0t",
        "colab_type": "code",
        "outputId": "a025c7a3-b243-49d4-8224-87ab00d27c7a",
        "colab": {
          "base_uri": "https://localhost:8080/",
          "height": 1256
        }
      },
      "cell_type": "code",
      "source": [
        "squeezenet.summary()"
      ],
      "execution_count": 0,
      "outputs": [
        {
          "output_type": "stream",
          "text": [
            "__________________________________________________________________________________________________\n",
            "Layer (type)                    Output Shape         Param #     Connected to                     \n",
            "==================================================================================================\n",
            "input_2 (InputLayer)            (None, 32, 32, 3)    0                                            \n",
            "__________________________________________________________________________________________________\n",
            "Conv1 (Conv2D)                  (None, 16, 16, 96)   2688        input_2[0][0]                    \n",
            "__________________________________________________________________________________________________\n",
            "Maxpool1 (MaxPooling2D)         (None, 8, 8, 96)     0           Conv1[0][0]                      \n",
            "__________________________________________________________________________________________________\n",
            "Batch1 (BatchNormalization)     (None, 8, 8, 96)     384         Maxpool1[0][0]                   \n",
            "__________________________________________________________________________________________________\n",
            "Fire4s1x1 (Conv2D)              (None, 8, 8, 32)     3104        Batch1[0][0]                     \n",
            "__________________________________________________________________________________________________\n",
            "Fire4sbn (BatchNormalization)   (None, 8, 8, 32)     128         Fire4s1x1[0][0]                  \n",
            "__________________________________________________________________________________________________\n",
            "Fire4e1x1 (Conv2D)              (None, 8, 8, 128)    4224        Fire4sbn[0][0]                   \n",
            "__________________________________________________________________________________________________\n",
            "Fire4e3x3 (Conv2D)              (None, 8, 8, 128)    36992       Fire4sbn[0][0]                   \n",
            "__________________________________________________________________________________________________\n",
            "Fire4 (Concatenate)             (None, 8, 8, 256)    0           Fire4e1x1[0][0]                  \n",
            "                                                                 Fire4e3x3[0][0]                  \n",
            "__________________________________________________________________________________________________\n",
            "Maxpool4 (MaxPooling2D)         (None, 3, 3, 256)    0           Fire4[0][0]                      \n",
            "__________________________________________________________________________________________________\n",
            "Fire6s1x1 (Conv2D)              (None, 3, 3, 48)     12336       Maxpool4[0][0]                   \n",
            "__________________________________________________________________________________________________\n",
            "Fire6sbn (BatchNormalization)   (None, 3, 3, 48)     192         Fire6s1x1[0][0]                  \n",
            "__________________________________________________________________________________________________\n",
            "Fire6e1x1 (Conv2D)              (None, 3, 3, 192)    9408        Fire6sbn[0][0]                   \n",
            "__________________________________________________________________________________________________\n",
            "Fire6e3x3 (Conv2D)              (None, 3, 3, 192)    83136       Fire6sbn[0][0]                   \n",
            "__________________________________________________________________________________________________\n",
            "Fire6 (Concatenate)             (None, 3, 3, 384)    0           Fire6e1x1[0][0]                  \n",
            "                                                                 Fire6e3x3[0][0]                  \n",
            "__________________________________________________________________________________________________\n",
            "Fire7s1x1 (Conv2D)              (None, 3, 3, 48)     18480       Fire6[0][0]                      \n",
            "__________________________________________________________________________________________________\n",
            "Fire7sbn (BatchNormalization)   (None, 3, 3, 48)     192         Fire7s1x1[0][0]                  \n",
            "__________________________________________________________________________________________________\n",
            "Fire7e1x1 (Conv2D)              (None, 3, 3, 192)    9408        Fire7sbn[0][0]                   \n",
            "__________________________________________________________________________________________________\n",
            "Fire7e3x3 (Conv2D)              (None, 3, 3, 192)    83136       Fire7sbn[0][0]                   \n",
            "__________________________________________________________________________________________________\n",
            "Fire7 (Concatenate)             (None, 3, 3, 384)    0           Fire7e1x1[0][0]                  \n",
            "                                                                 Fire7e3x3[0][0]                  \n",
            "__________________________________________________________________________________________________\n",
            "Fire8s1x1 (Conv2D)              (None, 3, 3, 48)     18480       Fire7[0][0]                      \n",
            "__________________________________________________________________________________________________\n",
            "Fire8sbn (BatchNormalization)   (None, 3, 3, 48)     192         Fire8s1x1[0][0]                  \n",
            "__________________________________________________________________________________________________\n",
            "Fire8e1x1 (Conv2D)              (None, 3, 3, 192)    9408        Fire8sbn[0][0]                   \n",
            "__________________________________________________________________________________________________\n",
            "Fire8e3x3 (Conv2D)              (None, 3, 3, 192)    83136       Fire8sbn[0][0]                   \n",
            "__________________________________________________________________________________________________\n",
            "Fire8 (Concatenate)             (None, 3, 3, 384)    0           Fire8e1x1[0][0]                  \n",
            "                                                                 Fire8e3x3[0][0]                  \n",
            "__________________________________________________________________________________________________\n",
            "Maxpool8 (MaxPooling2D)         (None, 1, 1, 384)    0           Fire8[0][0]                      \n",
            "__________________________________________________________________________________________________\n",
            "Dropout (Dropout)               (None, 1, 1, 384)    0           Maxpool8[0][0]                   \n",
            "__________________________________________________________________________________________________\n",
            "Conv10 (Conv2D)                 (None, 1, 1, 10)     3850        Dropout[0][0]                    \n",
            "__________________________________________________________________________________________________\n",
            "Batch10 (BatchNormalization)    (None, 1, 1, 10)     40          Conv10[0][0]                     \n",
            "__________________________________________________________________________________________________\n",
            "GlobalAvgPool10 (GlobalAverageP (None, 10)           0           Batch10[0][0]                    \n",
            "__________________________________________________________________________________________________\n",
            "activation_1 (Activation)       (None, 10)           0           GlobalAvgPool10[0][0]            \n",
            "==================================================================================================\n",
            "Total params: 378,914\n",
            "Trainable params: 378,350\n",
            "Non-trainable params: 564\n",
            "__________________________________________________________________________________________________\n"
          ],
          "name": "stdout"
        }
      ]
    },
    {
      "metadata": {
        "id": "274MW_WEU2XX",
        "colab_type": "code",
        "outputId": "e09f2b81-a445-45b8-8f6c-3b48e3f99f1f",
        "colab": {
          "base_uri": "https://localhost:8080/",
          "height": 3411
        }
      },
      "cell_type": "code",
      "source": [
        "squeezenet_his = squeezenet.fit_generator(train_datagen.flow(x_train, y_train, batch_size=batch_size), \n",
        "                                    steps_per_epoch = len(x_train) / batch_size, \n",
        "                                    epochs = epochs, \n",
        "                                   validation_data=valid_datagen.flow(x_valid, y_valid, batch_size=batch_size),\n",
        "                                   validation_steps=len(x_valid) / batch_size,\n",
        "                                          callbacks=callbacks_list)"
      ],
      "execution_count": 18,
      "outputs": [
        {
          "output_type": "stream",
          "text": [
            "Epoch 1/100\n",
            "352/351 [==============================] - 33s 95ms/step - loss: 1.7137 - acc: 0.3617 - val_loss: 1.6594 - val_acc: 0.4262\n",
            "Epoch 2/100\n",
            "352/351 [==============================] - 31s 88ms/step - loss: 1.3770 - acc: 0.5046 - val_loss: 1.6032 - val_acc: 0.4656\n",
            "Epoch 3/100\n",
            "352/351 [==============================] - 31s 89ms/step - loss: 1.2204 - acc: 0.5679 - val_loss: 1.2208 - val_acc: 0.5752\n",
            "Epoch 4/100\n",
            "352/351 [==============================] - 32s 90ms/step - loss: 1.1084 - acc: 0.6095 - val_loss: 1.2380 - val_acc: 0.5802\n",
            "Epoch 5/100\n",
            "352/351 [==============================] - 32s 90ms/step - loss: 1.0385 - acc: 0.6364 - val_loss: 1.0173 - val_acc: 0.6424\n",
            "Epoch 6/100\n",
            "352/351 [==============================] - 32s 90ms/step - loss: 0.9799 - acc: 0.6560 - val_loss: 0.9194 - val_acc: 0.6838\n",
            "Epoch 7/100\n",
            "352/351 [==============================] - 32s 89ms/step - loss: 0.9419 - acc: 0.6731 - val_loss: 1.0988 - val_acc: 0.6146\n",
            "Epoch 8/100\n",
            "352/351 [==============================] - 31s 88ms/step - loss: 0.9014 - acc: 0.6863 - val_loss: 0.9989 - val_acc: 0.6490\n",
            "Epoch 9/100\n",
            "352/351 [==============================] - 31s 88ms/step - loss: 0.8642 - acc: 0.6981 - val_loss: 0.9443 - val_acc: 0.6658\n",
            "Epoch 10/100\n",
            "352/351 [==============================] - 31s 88ms/step - loss: 0.8214 - acc: 0.7158 - val_loss: 0.8514 - val_acc: 0.6998\n",
            "Epoch 11/100\n",
            "352/351 [==============================] - 31s 89ms/step - loss: 0.8039 - acc: 0.7220 - val_loss: 0.8572 - val_acc: 0.7086\n",
            "Epoch 12/100\n",
            "352/351 [==============================] - 32s 90ms/step - loss: 0.7805 - acc: 0.7297 - val_loss: 0.9467 - val_acc: 0.6768\n",
            "Epoch 13/100\n",
            "352/351 [==============================] - 31s 89ms/step - loss: 0.7508 - acc: 0.7371 - val_loss: 0.8251 - val_acc: 0.7134\n",
            "Epoch 14/100\n",
            "352/351 [==============================] - 31s 88ms/step - loss: 0.7340 - acc: 0.7467 - val_loss: 0.8476 - val_acc: 0.7024\n",
            "Epoch 15/100\n",
            "352/351 [==============================] - 32s 89ms/step - loss: 0.7178 - acc: 0.7522 - val_loss: 0.8805 - val_acc: 0.6980\n",
            "Epoch 16/100\n",
            "352/351 [==============================] - 31s 89ms/step - loss: 0.7011 - acc: 0.7575 - val_loss: 0.7466 - val_acc: 0.7338\n",
            "Epoch 17/100\n",
            "352/351 [==============================] - 31s 89ms/step - loss: 0.6806 - acc: 0.7662 - val_loss: 0.6952 - val_acc: 0.7590\n",
            "Epoch 18/100\n",
            "352/351 [==============================] - 31s 87ms/step - loss: 0.6645 - acc: 0.7709 - val_loss: 0.7571 - val_acc: 0.7344\n",
            "Epoch 19/100\n",
            "352/351 [==============================] - 34s 96ms/step - loss: 0.6516 - acc: 0.7747 - val_loss: 0.7044 - val_acc: 0.7528\n",
            "Epoch 20/100\n",
            "352/351 [==============================] - 32s 90ms/step - loss: 0.5969 - acc: 0.7945 - val_loss: 0.6846 - val_acc: 0.7600\n",
            "Epoch 21/100\n",
            "352/351 [==============================] - 32s 90ms/step - loss: 0.5764 - acc: 0.7998 - val_loss: 0.6312 - val_acc: 0.7850\n",
            "Epoch 22/100\n",
            "352/351 [==============================] - 31s 89ms/step - loss: 0.5619 - acc: 0.8056 - val_loss: 0.6453 - val_acc: 0.7760\n",
            "Epoch 23/100\n",
            "352/351 [==============================] - 32s 90ms/step - loss: 0.5611 - acc: 0.8059 - val_loss: 0.6266 - val_acc: 0.7852\n",
            "Epoch 24/100\n",
            "352/351 [==============================] - 34s 96ms/step - loss: 0.5574 - acc: 0.8053 - val_loss: 0.6254 - val_acc: 0.7838\n",
            "Epoch 25/100\n",
            "352/351 [==============================] - 31s 89ms/step - loss: 0.5447 - acc: 0.8122 - val_loss: 0.6219 - val_acc: 0.7876\n",
            "Epoch 26/100\n",
            "352/351 [==============================] - 30s 87ms/step - loss: 0.5390 - acc: 0.8120 - val_loss: 0.6494 - val_acc: 0.7784\n",
            "Epoch 27/100\n",
            "352/351 [==============================] - 31s 89ms/step - loss: 0.5387 - acc: 0.8127 - val_loss: 0.6165 - val_acc: 0.7852\n",
            "Epoch 28/100\n",
            "352/351 [==============================] - 31s 87ms/step - loss: 0.5300 - acc: 0.8147 - val_loss: 0.6729 - val_acc: 0.7678\n",
            "Epoch 29/100\n",
            "352/351 [==============================] - 31s 88ms/step - loss: 0.5248 - acc: 0.8171 - val_loss: 0.6188 - val_acc: 0.7828\n",
            "Epoch 30/100\n",
            "352/351 [==============================] - 31s 88ms/step - loss: 0.5183 - acc: 0.8201 - val_loss: 0.5829 - val_acc: 0.7960\n",
            "Epoch 31/100\n",
            "352/351 [==============================] - 31s 88ms/step - loss: 0.5130 - acc: 0.8214 - val_loss: 0.6303 - val_acc: 0.7836\n",
            "Epoch 32/100\n",
            "352/351 [==============================] - 31s 87ms/step - loss: 0.5091 - acc: 0.8246 - val_loss: 0.6419 - val_acc: 0.7806\n",
            "Epoch 33/100\n",
            "352/351 [==============================] - 31s 88ms/step - loss: 0.5072 - acc: 0.8235 - val_loss: 0.6183 - val_acc: 0.7862\n",
            "Epoch 34/100\n",
            "352/351 [==============================] - 31s 89ms/step - loss: 0.5005 - acc: 0.8272 - val_loss: 0.6594 - val_acc: 0.7762\n",
            "Epoch 35/100\n",
            "352/351 [==============================] - 31s 88ms/step - loss: 0.4939 - acc: 0.8284 - val_loss: 0.6234 - val_acc: 0.7882\n",
            "Epoch 36/100\n",
            "352/351 [==============================] - 31s 88ms/step - loss: 0.4883 - acc: 0.8302 - val_loss: 0.6085 - val_acc: 0.7916\n",
            "Epoch 37/100\n",
            "352/351 [==============================] - 31s 88ms/step - loss: 0.4835 - acc: 0.8333 - val_loss: 0.6649 - val_acc: 0.7770\n",
            "Epoch 38/100\n",
            "352/351 [==============================] - 31s 87ms/step - loss: 0.4841 - acc: 0.8320 - val_loss: 0.6531 - val_acc: 0.7838\n",
            "Epoch 39/100\n",
            "352/351 [==============================] - 31s 87ms/step - loss: 0.4734 - acc: 0.8359 - val_loss: 0.6428 - val_acc: 0.7824\n",
            "Epoch 40/100\n",
            "352/351 [==============================] - 31s 87ms/step - loss: 0.4437 - acc: 0.8441 - val_loss: 0.5873 - val_acc: 0.8024\n",
            "Epoch 41/100\n",
            "352/351 [==============================] - 31s 88ms/step - loss: 0.4336 - acc: 0.8483 - val_loss: 0.5682 - val_acc: 0.8058\n",
            "Epoch 42/100\n",
            "352/351 [==============================] - 31s 88ms/step - loss: 0.4281 - acc: 0.8523 - val_loss: 0.5658 - val_acc: 0.8098\n",
            "Epoch 43/100\n",
            "352/351 [==============================] - 31s 87ms/step - loss: 0.4258 - acc: 0.8521 - val_loss: 0.6473 - val_acc: 0.7864\n",
            "Epoch 44/100\n",
            "352/351 [==============================] - 31s 88ms/step - loss: 0.4188 - acc: 0.8548 - val_loss: 0.5814 - val_acc: 0.8036\n",
            "Epoch 45/100\n",
            "352/351 [==============================] - 31s 87ms/step - loss: 0.4195 - acc: 0.8545 - val_loss: 0.5751 - val_acc: 0.8036\n",
            "Epoch 46/100\n",
            "352/351 [==============================] - 31s 88ms/step - loss: 0.4157 - acc: 0.8552 - val_loss: 0.6185 - val_acc: 0.7994\n",
            "Epoch 47/100\n",
            "352/351 [==============================] - 31s 88ms/step - loss: 0.4113 - acc: 0.8576 - val_loss: 0.5862 - val_acc: 0.8054\n",
            "Epoch 48/100\n",
            "352/351 [==============================] - 31s 87ms/step - loss: 0.4127 - acc: 0.8544 - val_loss: 0.5773 - val_acc: 0.8028\n",
            "Epoch 49/100\n",
            "352/351 [==============================] - 31s 88ms/step - loss: 0.4045 - acc: 0.8602 - val_loss: 0.6020 - val_acc: 0.8010\n",
            "Epoch 50/100\n",
            "352/351 [==============================] - 31s 88ms/step - loss: 0.4071 - acc: 0.8585 - val_loss: 0.5928 - val_acc: 0.8050\n",
            "Epoch 51/100\n",
            "352/351 [==============================] - 31s 88ms/step - loss: 0.3996 - acc: 0.8608 - val_loss: 0.6115 - val_acc: 0.8002\n",
            "Epoch 52/100\n",
            "352/351 [==============================] - 31s 88ms/step - loss: 0.3994 - acc: 0.8617 - val_loss: 0.6135 - val_acc: 0.7972\n",
            "Epoch 53/100\n",
            "352/351 [==============================] - 31s 88ms/step - loss: 0.4009 - acc: 0.8590 - val_loss: 0.5668 - val_acc: 0.8116\n",
            "Epoch 54/100\n",
            "352/351 [==============================] - 31s 88ms/step - loss: 0.3976 - acc: 0.8611 - val_loss: 0.6112 - val_acc: 0.8016\n",
            "Epoch 55/100\n",
            "352/351 [==============================] - 31s 88ms/step - loss: 0.3938 - acc: 0.8615 - val_loss: 0.5783 - val_acc: 0.8082\n",
            "Epoch 56/100\n",
            "352/351 [==============================] - 30s 86ms/step - loss: 0.3932 - acc: 0.8635 - val_loss: 0.5716 - val_acc: 0.8150\n",
            "Epoch 57/100\n",
            "352/351 [==============================] - 31s 88ms/step - loss: 0.3851 - acc: 0.8643 - val_loss: 0.5774 - val_acc: 0.8084\n",
            "Epoch 58/100\n",
            "352/351 [==============================] - 31s 87ms/step - loss: 0.3908 - acc: 0.8629 - val_loss: 0.5672 - val_acc: 0.8140\n",
            "Epoch 59/100\n",
            "352/351 [==============================] - 30s 86ms/step - loss: 0.3807 - acc: 0.8654 - val_loss: 0.5976 - val_acc: 0.8066\n",
            "Epoch 60/100\n",
            "352/351 [==============================] - 31s 87ms/step - loss: 0.3577 - acc: 0.8741 - val_loss: 0.5692 - val_acc: 0.8092\n",
            "Epoch 61/100\n",
            "352/351 [==============================] - 30s 87ms/step - loss: 0.3587 - acc: 0.8742 - val_loss: 0.5582 - val_acc: 0.8174\n",
            "Epoch 62/100\n",
            "352/351 [==============================] - 31s 87ms/step - loss: 0.3550 - acc: 0.8761 - val_loss: 0.5792 - val_acc: 0.8092\n",
            "Epoch 63/100\n",
            "352/351 [==============================] - 30s 86ms/step - loss: 0.3535 - acc: 0.8752 - val_loss: 0.5881 - val_acc: 0.8108\n",
            "Epoch 64/100\n",
            "352/351 [==============================] - 31s 87ms/step - loss: 0.3501 - acc: 0.8777 - val_loss: 0.5925 - val_acc: 0.8100\n",
            "Epoch 65/100\n",
            "352/351 [==============================] - 31s 87ms/step - loss: 0.3536 - acc: 0.8756 - val_loss: 0.5866 - val_acc: 0.8040\n",
            "Epoch 66/100\n",
            "352/351 [==============================] - 30s 87ms/step - loss: 0.3463 - acc: 0.8789 - val_loss: 0.5941 - val_acc: 0.8066\n",
            "Epoch 67/100\n",
            "352/351 [==============================] - 31s 88ms/step - loss: 0.3511 - acc: 0.8753 - val_loss: 0.5986 - val_acc: 0.8100\n",
            "Epoch 68/100\n",
            "352/351 [==============================] - 31s 87ms/step - loss: 0.3456 - acc: 0.8785 - val_loss: 0.5818 - val_acc: 0.8140\n",
            "Epoch 69/100\n",
            "352/351 [==============================] - 31s 87ms/step - loss: 0.3399 - acc: 0.8809 - val_loss: 0.5723 - val_acc: 0.8110\n",
            "Epoch 70/100\n",
            "352/351 [==============================] - 31s 87ms/step - loss: 0.3371 - acc: 0.8832 - val_loss: 0.6176 - val_acc: 0.8036\n",
            "Epoch 71/100\n",
            "352/351 [==============================] - 31s 87ms/step - loss: 0.3371 - acc: 0.8813 - val_loss: 0.6127 - val_acc: 0.8038\n",
            "Epoch 72/100\n",
            "352/351 [==============================] - 30s 86ms/step - loss: 0.3416 - acc: 0.8811 - val_loss: 0.6056 - val_acc: 0.8056\n",
            "Epoch 73/100\n",
            "352/351 [==============================] - 31s 87ms/step - loss: 0.3341 - acc: 0.8832 - val_loss: 0.6106 - val_acc: 0.8046\n",
            "Epoch 74/100\n",
            "352/351 [==============================] - 31s 87ms/step - loss: 0.3354 - acc: 0.8837 - val_loss: 0.5990 - val_acc: 0.8096\n",
            "Epoch 75/100\n",
            "352/351 [==============================] - 31s 88ms/step - loss: 0.3328 - acc: 0.8821 - val_loss: 0.6073 - val_acc: 0.8080\n",
            "Epoch 76/100\n",
            "352/351 [==============================] - 32s 91ms/step - loss: 0.3340 - acc: 0.8833 - val_loss: 0.5709 - val_acc: 0.8160\n",
            "Epoch 77/100\n",
            "352/351 [==============================] - 32s 91ms/step - loss: 0.3324 - acc: 0.8835 - val_loss: 0.5771 - val_acc: 0.8098\n",
            "Epoch 78/100\n",
            "352/351 [==============================] - 32s 91ms/step - loss: 0.3299 - acc: 0.8843 - val_loss: 0.5859 - val_acc: 0.8140\n",
            "Epoch 79/100\n",
            "352/351 [==============================] - 32s 90ms/step - loss: 0.3306 - acc: 0.8840 - val_loss: 0.6110 - val_acc: 0.8046\n",
            "Epoch 80/100\n",
            "352/351 [==============================] - 32s 90ms/step - loss: 0.3172 - acc: 0.8892 - val_loss: 0.6046 - val_acc: 0.8090\n",
            "Epoch 81/100\n",
            "352/351 [==============================] - 32s 91ms/step - loss: 0.3122 - acc: 0.8905 - val_loss: 0.5959 - val_acc: 0.8136\n",
            "Epoch 82/100\n",
            "352/351 [==============================] - 32s 90ms/step - loss: 0.3147 - acc: 0.8891 - val_loss: 0.5826 - val_acc: 0.8126\n",
            "Epoch 83/100\n",
            "352/351 [==============================] - 32s 90ms/step - loss: 0.3083 - acc: 0.8932 - val_loss: 0.5817 - val_acc: 0.8146\n",
            "Epoch 84/100\n",
            "352/351 [==============================] - 32s 90ms/step - loss: 0.3070 - acc: 0.8915 - val_loss: 0.5885 - val_acc: 0.8156\n",
            "Epoch 85/100\n",
            "352/351 [==============================] - 32s 91ms/step - loss: 0.3067 - acc: 0.8921 - val_loss: 0.5967 - val_acc: 0.8114\n",
            "Epoch 86/100\n",
            "352/351 [==============================] - 32s 90ms/step - loss: 0.3063 - acc: 0.8935 - val_loss: 0.6083 - val_acc: 0.8092\n",
            "Epoch 87/100\n",
            "352/351 [==============================] - 31s 88ms/step - loss: 0.3084 - acc: 0.8927 - val_loss: 0.5844 - val_acc: 0.8156\n",
            "Epoch 88/100\n",
            "352/351 [==============================] - 31s 89ms/step - loss: 0.3050 - acc: 0.8922 - val_loss: 0.5901 - val_acc: 0.8116\n",
            "Epoch 89/100\n",
            "352/351 [==============================] - 31s 89ms/step - loss: 0.3070 - acc: 0.8921 - val_loss: 0.5796 - val_acc: 0.8124\n",
            "Epoch 90/100\n",
            "352/351 [==============================] - 31s 88ms/step - loss: 0.3043 - acc: 0.8934 - val_loss: 0.6083 - val_acc: 0.8070\n",
            "Epoch 91/100\n",
            "352/351 [==============================] - 31s 89ms/step - loss: 0.3022 - acc: 0.8931 - val_loss: 0.5944 - val_acc: 0.8128\n",
            "Epoch 92/100\n",
            "352/351 [==============================] - 31s 89ms/step - loss: 0.3003 - acc: 0.8937 - val_loss: 0.6030 - val_acc: 0.8124\n",
            "Epoch 93/100\n",
            "352/351 [==============================] - 32s 90ms/step - loss: 0.2995 - acc: 0.8958 - val_loss: 0.6150 - val_acc: 0.8126\n",
            "Epoch 94/100\n",
            "352/351 [==============================] - 32s 90ms/step - loss: 0.3012 - acc: 0.8944 - val_loss: 0.6021 - val_acc: 0.8110\n",
            "Epoch 95/100\n",
            "352/351 [==============================] - 32s 90ms/step - loss: 0.2990 - acc: 0.8940 - val_loss: 0.5877 - val_acc: 0.8170\n",
            "Epoch 96/100\n",
            "352/351 [==============================] - 32s 90ms/step - loss: 0.2963 - acc: 0.8960 - val_loss: 0.6026 - val_acc: 0.8134\n",
            "Epoch 97/100\n",
            "352/351 [==============================] - 32s 90ms/step - loss: 0.2953 - acc: 0.8956 - val_loss: 0.6133 - val_acc: 0.8104\n",
            "Epoch 98/100\n",
            "352/351 [==============================] - 32s 90ms/step - loss: 0.2964 - acc: 0.8950 - val_loss: 0.6008 - val_acc: 0.8090\n",
            "Epoch 99/100\n",
            "352/351 [==============================] - 31s 89ms/step - loss: 0.2928 - acc: 0.8978 - val_loss: 0.6010 - val_acc: 0.8126\n",
            "Epoch 100/100\n",
            "352/351 [==============================] - 31s 89ms/step - loss: 0.2906 - acc: 0.8976 - val_loss: 0.6106 - val_acc: 0.8122\n"
          ],
          "name": "stdout"
        }
      ]
    },
    {
      "metadata": {
        "id": "9A271ZN2VND3",
        "colab_type": "code",
        "colab": {
          "base_uri": "https://localhost:8080/",
          "height": 34
        },
        "outputId": "d11c2eee-1d8b-4b40-ee86-1025e7075edd"
      },
      "cell_type": "code",
      "source": [
        "results = squeezenet.evaluate_generator(test_datagen.flow(x_test, y_test, batch_size=batch_size), steps=len(x_test) / batch_size)\n",
        "print(\"Test Accuracy %f\" % (results[1] * 100))"
      ],
      "execution_count": 19,
      "outputs": [
        {
          "output_type": "stream",
          "text": [
            "Test Accuracy 80.290000\n"
          ],
          "name": "stdout"
        }
      ]
    },
    {
      "metadata": {
        "id": "liKHz56DW5dp",
        "colab_type": "text"
      },
      "cell_type": "markdown",
      "source": [
        "## **Plot**"
      ]
    },
    {
      "metadata": {
        "id": "Uxlh6W8CGHO-",
        "colab_type": "code",
        "colab": {
          "base_uri": "https://localhost:8080/",
          "height": 364
        },
        "outputId": "d5e33cd9-1acc-4624-93ac-b89fc0c5d896"
      },
      "cell_type": "code",
      "source": [
        "plt.plot(alexnet_his.history['loss'])\n",
        "plt.plot(alexnet_his.history['val_loss'])"
      ],
      "execution_count": 20,
      "outputs": [
        {
          "output_type": "execute_result",
          "data": {
            "text/plain": [
              "[<matplotlib.lines.Line2D at 0x7f52b8e5ecf8>]"
            ]
          },
          "metadata": {
            "tags": []
          },
          "execution_count": 20
        },
        {
          "output_type": "display_data",
          "data": {
            "image/png": "[encoded data removed]",
            "text/plain": [
              "<Figure size 576x396 with 1 Axes>"
            ]
          },
          "metadata": {
            "tags": []
          }
        }
      ]
    },
    {
      "metadata": {
        "id": "F5mJvczTW0tm",
        "colab_type": "code",
        "colab": {
          "base_uri": "https://localhost:8080/",
          "height": 366
        },
        "outputId": "7c1426d1-018a-46e4-db5a-f370fc2b1fb6"
      },
      "cell_type": "code",
      "source": [
        "plt.plot(alexnet_his.history['acc'])\n",
        "plt.plot(alexnet_his.history['val_acc'])"
      ],
      "execution_count": 21,
      "outputs": [
        {
          "output_type": "execute_result",
          "data": {
            "text/plain": [
              "[<matplotlib.lines.Line2D at 0x7f52b75bce48>]"
            ]
          },
          "metadata": {
            "tags": []
          },
          "execution_count": 21
        },
        {
          "output_type": "display_data",
          "data": {
            "image/png": "[encoded data removed]",
            "text/plain": [
              "<Figure size 576x396 with 1 Axes>"
            ]
          },
          "metadata": {
            "tags": []
          }
        }
      ]
    },
    {
      "metadata": {
        "id": "ld8M35gHmGHw",
        "colab_type": "code",
        "colab": {
          "base_uri": "https://localhost:8080/",
          "height": 364
        },
        "outputId": "e8a21120-d279-4b12-8ca3-1602be4f10a1"
      },
      "cell_type": "code",
      "source": [
        "plt.plot(squeezenet_his.history['loss'])\n",
        "plt.plot(squeezenet_his.history['val_loss'])"
      ],
      "execution_count": 22,
      "outputs": [
        {
          "output_type": "execute_result",
          "data": {
            "text/plain": [
              "[<matplotlib.lines.Line2D at 0x7f52b754df98>]"
            ]
          },
          "metadata": {
            "tags": []
          },
          "execution_count": 22
        },
        {
          "output_type": "display_data",
          "data": {
            "image/png": "[encoded data removed]",
            "text/plain": [
              "<Figure size 576x396 with 1 Axes>"
            ]
          },
          "metadata": {
            "tags": []
          }
        }
      ]
    },
    {
      "metadata": {
        "id": "HzD1jj6oo5Ic",
        "colab_type": "code",
        "colab": {
          "base_uri": "https://localhost:8080/",
          "height": 364
        },
        "outputId": "69588e3f-c8df-4724-9eca-dfe9033602a4"
      },
      "cell_type": "code",
      "source": [
        "plt.plot(squeezenet_his.history['acc'])\n",
        "plt.plot(squeezenet_his.history['val_acc'])"
      ],
      "execution_count": 23,
      "outputs": [
        {
          "output_type": "execute_result",
          "data": {
            "text/plain": [
              "[<matplotlib.lines.Line2D at 0x7f52b74dc438>]"
            ]
          },
          "metadata": {
            "tags": []
          },
          "execution_count": 23
        },
        {
          "output_type": "display_data",
          "data": {
            "image/png": "[encoded data removed]",
            "text/plain": [
              "<Figure size 576x396 with 1 Axes>"
            ]
          },
          "metadata": {
            "tags": []
          }
        }
      ]
    },
    {
      "metadata": {
        "id": "AIitKh7AYI02",
        "colab_type": "code",
        "colab": {
          "base_uri": "https://localhost:8080/",
          "height": 34
        },
        "outputId": "fd3c0422-4f70-477a-e1b3-c7cecaaf635d"
      },
      "cell_type": "code",
      "source": [
        "print(\"# of Parameter Reduction: ~%fx\" % (22559626 / 378914))"
      ],
      "execution_count": 24,
      "outputs": [
        {
          "output_type": "stream",
          "text": [
            "# of Parameter Reduction: ~59.537589x\n"
          ],
          "name": "stdout"
        }
      ]
    }
  ]
}